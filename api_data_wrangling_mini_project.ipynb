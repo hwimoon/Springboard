{
 "cells": [
  {
   "cell_type": "markdown",
   "metadata": {},
   "source": [
    "This exercise will require you to pull some data from the Qunadl API. Qaundl is currently the most widely used aggregator of financial market data."
   ]
  },
  {
   "cell_type": "markdown",
   "metadata": {},
   "source": [
    "As a first step, you will need to register a free account on the http://www.quandl.com website."
   ]
  },
  {
   "cell_type": "markdown",
   "metadata": {},
   "source": [
    "After you register, you will be provided with a unique API key, that you should store:"
   ]
  },
  {
   "cell_type": "code",
   "execution_count": 1,
   "metadata": {},
   "outputs": [],
   "source": []
  },
  {
   "cell_type": "markdown",
   "metadata": {},
   "source": [
    "Qaundl has a large number of data sources, but, unfortunately, most of them require a Premium subscription. Still, there are also a good number of free datasets."
   ]
  },
  {
   "cell_type": "markdown",
   "metadata": {},
   "source": [
    "For this mini project, we will focus on equities data from the Frankfurt Stock Exhange (FSE), which is available for free. We'll try and analyze the stock prices of a company called Carl Zeiss Meditec, which manufactures tools for eye examinations, as well as medical lasers for laser eye surgery: https://www.zeiss.com/meditec/int/home.html. The company is listed under the stock ticker AFX_X."
   ]
  },
  {
   "cell_type": "markdown",
   "metadata": {},
   "source": [
    "You can find the detailed Quandl API instructions here: https://docs.quandl.com/docs/time-series"
   ]
  },
  {
   "cell_type": "markdown",
   "metadata": {},
   "source": [
    "While there is a dedicated Python package for connecting to the Quandl API, we would prefer that you use the *requests* package, which can be easily downloaded using *pip* or *conda*. You can find the documentation for the package here: http://docs.python-requests.org/en/master/ "
   ]
  },
  {
   "cell_type": "markdown",
   "metadata": {},
   "source": [
    "Finally, apart from the *requests* package, you are encouraged to not use any third party Python packages, such as *pandas*, and instead focus on what's available in the Python Standard Library (the *collections* module might come in handy: https://pymotw.com/3/collections/).\n",
    "Also, since you won't have access to DataFrames, you are encouraged to us Python's native data structures - preferably dictionaries, though some questions can also be answered using lists.\n",
    "You can read more on these data structures here: https://docs.python.org/3/tutorial/datastructures.html"
   ]
  },
  {
   "cell_type": "markdown",
   "metadata": {},
   "source": [
    "Keep in mind that the JSON responses you will be getting from the API map almost one-to-one to Python's dictionaries. Unfortunately, they can be very nested, so make sure you read up on indexing dictionaries in the documentation provided above."
   ]
  },
  {
   "cell_type": "code",
   "execution_count": 158,
   "metadata": {},
   "outputs": [],
   "source": [
    "# First, import the relevant modules\n",
    "import requests\n",
    "import json\n",
    "import numpy as np"
   ]
  },
  {
   "cell_type": "code",
   "execution_count": 159,
   "metadata": {},
   "outputs": [
    {
     "data": {
      "text/plain": [
       "['2018-09-25',\n",
       " None,\n",
       " 75.95,\n",
       " 73.05,\n",
       " 75.0,\n",
       " None,\n",
       " 184100.0,\n",
       " 13728663.0,\n",
       " None,\n",
       " None,\n",
       " None]"
      ]
     },
     "execution_count": 159,
     "metadata": {},
     "output_type": "execute_result"
    }
   ],
   "source": [
    "# Now, call the Quandl API and pull out a small sample of the data (only one day) to get a glimpse\n",
    "# into the JSON structure that will be returned\n",
    "r = requests.get('https://www.quandl.com/api/v3/datasets/FSE/AFX_X.json?api_key=dy8ua-DPgaCmz9zBTdSZ')\n",
    "r.json()['dataset']['data'][0]"
   ]
  },
  {
   "cell_type": "code",
   "execution_count": 161,
   "metadata": {},
   "outputs": [],
   "source": [
    "# Inspect the JSON structure of the object you created, and take note of how nested it is,\n",
    "# as well as the overall structure\n",
    "#r.json()"
   ]
  },
  {
   "cell_type": "markdown",
   "metadata": {},
   "source": [
    "These are your tasks for this mini project:\n",
    "\n",
    "1. Collect data from the Franfurt Stock Exchange, for the ticker AFX_X, for the whole year 2017 (keep in mind that the date format is YYYY-MM-DD).\n",
    "2. Convert the returned JSON object into a Python dictionary.\n",
    "3. Calculate what the highest and lowest opening prices were for the stock in this period.\n",
    "4. What was the largest change in any one day (based on High and Low price)?\n",
    "5. What was the largest change between any two days (based on Closing Price)?\n",
    "6. What was the average daily trading volume during this year?\n",
    "7. (Optional) What was the median trading volume during this year. (Note: you may need to implement your own function for calculating the median.)"
   ]
  },
  {
   "cell_type": "code",
   "execution_count": 165,
   "metadata": {},
   "outputs": [],
   "source": [
    "#1 & #2\n",
    "r = requests.get('https://www.quandl.com/api/v3/datasets/FSE/AFX_X.json?api_key=dy8ua-DPgaCmz9zBTdSZ&start_date=2017-01-01&end_date=2017-12-31')\n",
    "data_2017 = r.json()\n",
    "#data_2017"
   ]
  },
  {
   "cell_type": "code",
   "execution_count": 166,
   "metadata": {
    "scrolled": true
   },
   "outputs": [
    {
     "name": "stdout",
     "output_type": "stream",
     "text": [
      "Min Price in 2017: $ 34.0\n",
      "Max Price in 2017: $ 53.11\n"
     ]
    }
   ],
   "source": [
    "#3. Calculate what the highest and lowest opening prices were for the stock in this period.\n",
    "\n",
    "open_price = []\n",
    "for i in range(len(data_2017['dataset']['data'])):\n",
    "    open_price.append(data_2017['dataset']['data'][i][1]) \n",
    "\n",
    "\n",
    "min_price = min(x for x in open_price if x is not None)\n",
    "max_price = max(x for x in open_price if x is not None)\n",
    "\n",
    "print('Min Price in 2017: $', min_price)\n",
    "print('Max Price in 2017: $', max_price)"
   ]
  },
  {
   "cell_type": "code",
   "execution_count": 167,
   "metadata": {},
   "outputs": [
    {
     "name": "stdout",
     "output_type": "stream",
     "text": [
      "Largest change in 2017: $ 2.81\n"
     ]
    }
   ],
   "source": [
    "#4. What was the largest change in any one day (based on High and Low price)?\n",
    "\n",
    "high_low_change = []\n",
    "for i in range(len(data_2017['dataset']['data'])):\n",
    "    high_low_change.append(round(data_2017['dataset']['data'][i][2] - data_2017['dataset']['data'][i][3],2))\n",
    "    \n",
    "max_change = max(x for x in high_low_change if x is not None)\n",
    "\n",
    "print('Largest change in 2017: $', max_change)"
   ]
  },
  {
   "cell_type": "code",
   "execution_count": 168,
   "metadata": {
    "scrolled": true
   },
   "outputs": [
    {
     "name": "stdout",
     "output_type": "stream",
     "text": [
      "Largest change between any two days in 2017: $ 2\n"
     ]
    }
   ],
   "source": [
    "#5. What was the largest change between any two days (based on Closing Price)?\n",
    "\n",
    "two_day_change = []\n",
    "i = 0\n",
    "\n",
    "while i < len(data_2017['dataset']['data']) - 1:\n",
    "    two_day_change.append(data_2017['dataset']['data'][i][4] - data_2017['dataset']['data'][i+1][4])\n",
    "    i += 1\n",
    "    \n",
    "max_two_day_change = round(max(x for x in two_day_change if x is not None))\n",
    "\n",
    "print('Largest change between any two days in 2017: $', max_two_day_change)\n",
    "\n"
   ]
  },
  {
   "cell_type": "code",
   "execution_count": 169,
   "metadata": {},
   "outputs": [
    {
     "name": "stdout",
     "output_type": "stream",
     "text": [
      "Average daily trading volume in 2017: 89124.0\n"
     ]
    }
   ],
   "source": [
    "#6. What was the average daily trading volume during this year?\n",
    "\n",
    "trading_volume = []\n",
    "for i in range(len(data_2017['dataset']['data'])):\n",
    "    trading_volume.append(data_2017['dataset']['data'][i][6])\n",
    "\n",
    "print('Average daily trading volume in 2017:', round(np.mean(trading_volume)))"
   ]
  },
  {
   "cell_type": "code",
   "execution_count": 170,
   "metadata": {},
   "outputs": [
    {
     "name": "stdout",
     "output_type": "stream",
     "text": [
      "Median Trading Volume in 2017 : 76286.0\n"
     ]
    }
   ],
   "source": [
    "#7. (Optional) What was the median trading volume during this year. (Note: you may need to implement your own function for calculating the median.)\n",
    "\n",
    "def median(x):\n",
    "    x = sorted(x)\n",
    "    if len(x) % 2 != 0:\n",
    "        median = x[int((len(x)-1)/2)]\n",
    "    else:\n",
    "        median = (x[int((len(x)/2) -1)] + x[int((len(x)/2))])/2\n",
    "    return median\n",
    "\n",
    "\n",
    "median_trading_volume = median(x for x in trading_volume if x is not None)\n",
    "print('Median Trading Volume in 2017 :', median_trading_volume)"
   ]
  }
 ],
 "metadata": {
  "kernelspec": {
   "display_name": "Python 3",
   "language": "python",
   "name": "python3"
  },
  "language_info": {
   "codemirror_mode": {
    "name": "ipython",
    "version": 3
   },
   "file_extension": ".py",
   "mimetype": "text/x-python",
   "name": "python",
   "nbconvert_exporter": "python",
   "pygments_lexer": "ipython3",
   "version": "3.6.5"
  }
 },
 "nbformat": 4,
 "nbformat_minor": 2
}
